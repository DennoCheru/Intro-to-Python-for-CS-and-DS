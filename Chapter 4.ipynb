{
 "cells": [
  {
   "cell_type": "markdown",
   "metadata": {},
   "source": [
    "4.3 **(What's wrong with this code?)** What is wrong with the following cube function's definition?"
   ]
  },
  {
   "cell_type": "code",
   "execution_count": null,
   "metadata": {},
   "outputs": [],
   "source": [
    "def cube(x):\n",
    "    \"\"\"Calculate the cube of x.\"\"\"\n",
    "    return x ** 3 \n",
    "print('The cube of 2 is', cube(2))"
   ]
  },
  {
   "cell_type": "markdown",
   "metadata": {},
   "source": [
    "4.4 **(What Does This Code Do?)** What does the following mystery function do? Assume you pass the list[1, 2, 3, 4, 5] as an argument."
   ]
  },
  {
   "cell_type": "code",
   "execution_count": null,
   "metadata": {},
   "outputs": [],
   "source": [
    "def mystery(x):\n",
    "    y = 0\n",
    "\n",
    "    for i in x:\n",
    "        if i % 2 == 0:\n",
    "            y += i\n",
    "    return y\n",
    "\n",
    "my_list = [1, 2, 3, 4, 5]\n",
    "\n",
    "print(mystery(my_list))"
   ]
  },
  {
   "cell_type": "markdown",
   "metadata": {},
   "source": [
    "4.5 **(Fill in the missing code)** The slope of a line is the number that describes ts direction and steepness. It is calculated by dividing the change in height by the change in length. Replace the ***s in the calc_slope function so that it returns the slope of a line drawn in a cartasian coordinate system. The function should receive four integers representing the x and y coordinates of the beginning and end of the line. For  example if call the function of for a line starting at (1,1) and ending at (4,5), the function should return 1.33"
   ]
  },
  {
   "cell_type": "code",
   "execution_count": null,
   "metadata": {},
   "outputs": [],
   "source": [
    "\"\"\"Calculating the slope of a line\"\"\"\n",
    "x1 = int(input('Enter beginning X value'))\n",
    "y1 = int(input('Enter beginning Y value'))\n",
    "x2 = int(input('Enter ending X value'))\n",
    "y2 = int(input('Enter ending Y value'))\n",
    "\n",
    "def calc_slope(x1,x2,y1,y2):\n",
    "    delta_x = x2 - x1\n",
    "    delta_y = y2 - y1\n",
    "    slope = delta_y / delta_x\n",
    "    return slope\n",
    "\n",
    "print(f'The slope of the line is {calc_slope(x1,x2,y1,y2):.2f}')"
   ]
  },
  {
   "cell_type": "markdown",
   "metadata": {},
   "source": [
    "4.6 **(Modified Average Function)** In Exercise 2.10, we calculated the average of three grades without using any function. In section 4.11, we defined an average function that can receive any number of arguments, but causes a *ZeroDivisionError* when called with no arguments. Write a new average function to receive one required argument and the arbirtrary list argument ***args**, and update its calculation accordingly. Test your function by having it calculate the average grade of student as in Exercise 2.10. When you call average with no arguments, Python should issue a *TypeError* indicating \"average( ) missing 1 required positional argument\"."
   ]
  },
  {
   "cell_type": "code",
   "execution_count": null,
   "metadata": {},
   "outputs": [],
   "source": [
    "def average(number, *args):\n",
    "    if len(args) + 1 == 0:\n",
    "        return TypeError(\"average() missing 1 required positional argument\")\n",
    "    else:\n",
    "        avg = (number + sum(args))/ (len(args) + 1)\n",
    "        return avg\n",
    "print(f'Average: {average(56,58,60):.2f}')"
   ]
  },
  {
   "cell_type": "markdown",
   "metadata": {},
   "source": [
    "4.7 **(Date and Time)** Python's **datetime** module contains a **datetime** type with a method **today** thet returns the current date and time as a *datetime* object. Write a *parameterless* date_and_time function containing the following statement, then call that function to display the current date and time. \n",
    "*print(datetime.datetime.today())*"
   ]
  },
  {
   "cell_type": "code",
   "execution_count": null,
   "metadata": {},
   "outputs": [],
   "source": [
    "import datetime\n",
    "\"\"\"Date time module to display current time\"\"\"\n",
    "def date_and_time():\n",
    "    return print(datetime.datetime.today())\n",
    "\n",
    "date_and_time()"
   ]
  },
  {
   "cell_type": "markdown",
   "metadata": {},
   "source": [
    "4.8 **(Rounding numbers)** Write a script that allows the user to input a floating point number, and the number of digits after the decimal sign. Use the round function to round the float value to the asked position."
   ]
  },
  {
   "cell_type": "code",
   "execution_count": null,
   "metadata": {},
   "outputs": [],
   "source": [
    "\"\"\"Rounding numbers\"\"\"\n",
    "def rounding_no(number, ndigits):\n",
    "    \"\"\"Round number to the no of decimal positions \n",
    "    specified in ndigits parameter\"\"\"\n",
    "    return round(number, ndigits=ndigits)\n",
    "\n",
    "no = float(input('Enter the number to round off: '))\n",
    "decimals = int(input('Enter the number of decila places to round to: '))\n",
    "print(rounding_no(no, decimals))"
   ]
  },
  {
   "cell_type": "markdown",
   "metadata": {},
   "source": [
    "4.9 **(Degrees to radians)** Implement a radians function that returns the radian equivalent of a degree. Use the following formula: *rad = degrees * pi /180* . Use this function to print a chart showing the the radian equivalent of all degrees ranging from 1 - 180 degrees. Use two difits of precision for the results. Print the results in a neat tabular formart."
   ]
  },
  {
   "cell_type": "code",
   "execution_count": null,
   "metadata": {},
   "outputs": [],
   "source": [
    "import math\n",
    "\"\"\"Converting Degrees to radians\"\"\"\n",
    "\n",
    "def degree_to_radians(degrees):\n",
    "    \"\"\"Convert degrees to radians\"\"\"\n",
    "    radians = degrees * math.pi / 180\n",
    "    return radians\n",
    "\n",
    "print(f'{\"Degrees\":<10}{\"Radians\":>10}')\n",
    "\n",
    "for degree in range(1,181):\n",
    "    print(f'{degree:<10}{degree_to_radians(degree):>10.2f}')"
   ]
  },
  {
   "cell_type": "markdown",
   "metadata": {},
   "source": [
    "4.10 **(Play the Multiplication Game)** Write a script that lets the user use a multiplication game. To begin, the game randomly selects two numbers between 1 and 10. It displays the selected numbers and asks the player for the product of both numbers. If the player answers correctly, they are asked if they want to play again. This cycle is continued until the player stops the game."
   ]
  },
  {
   "cell_type": "code",
   "execution_count": null,
   "metadata": {},
   "outputs": [],
   "source": [
    "\"\"\"Multiplication game\"\"\"\n",
    "import random\n",
    "\n",
    "def get_number():\n",
    "    \"\"\"Get a random number\"\"\"\n",
    "    return random.randrange(1,11)\n",
    "\n",
    "def find_product():\n",
    "    \"\"\"Multiplication function\"\"\"\n",
    "    num1 = get_number()\n",
    "    num2 = get_number()\n",
    "    print(f'\\nMultiply {num1} by {num2}')\n",
    "    product = num1 * num2\n",
    "    return product\n",
    "\n",
    "def check_result(product, player_answer):\n",
    "    correct = False\n",
    "    if product == player_answer:\n",
    "        correct = True\n",
    "    return correct\n",
    "\n",
    "print('The Multiplication game')\n",
    "for char in 'The Multiplication Game':\n",
    "    print('-', end='')\n",
    "\n",
    "game_over = False\n",
    "answer = 'yes'\n",
    "\n",
    "while not game_over:\n",
    "    if answer == 'yes':\n",
    "        result = find_product()\n",
    "        player_answer =  int(input(\"What's your answer: \"))\n",
    "        correct = check_result(result, player_answer)\n",
    "        if correct:\n",
    "            print('Your answer was correct.')\n",
    "        else:\n",
    "            print('Your answer was wrong. The correct answer was', result)\n",
    "    else:\n",
    "        game_over = True\n",
    "\n",
    "    if game_over:\n",
    "        print('GAME OVER')\n",
    "        break\n",
    "\n",
    "    answer = input('Do you want to play another game? (yes or no)')\n",
    "\n",
    "print('Thanks for playing')\n"
   ]
  },
  {
   "cell_type": "code",
   "execution_count": null,
   "metadata": {},
   "outputs": [],
   "source": []
  }
 ],
 "metadata": {
  "kernelspec": {
   "display_name": "Python 3",
   "language": "python",
   "name": "python3"
  },
  "language_info": {
   "codemirror_mode": {
    "name": "ipython",
    "version": 3
   },
   "file_extension": ".py",
   "mimetype": "text/x-python",
   "name": "python",
   "nbconvert_exporter": "python",
   "pygments_lexer": "ipython3",
   "version": "3.11.5"
  },
  "orig_nbformat": 4
 },
 "nbformat": 4,
 "nbformat_minor": 2
}
