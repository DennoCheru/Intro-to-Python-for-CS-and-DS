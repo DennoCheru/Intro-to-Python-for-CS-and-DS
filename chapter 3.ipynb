{
 "cells": [
  {
   "cell_type": "markdown",
   "metadata": {},
   "source": [
    "3.1 **(Validating User Input)** Modify the script of Fig3.3. to validate its\n",
    "inputs. For any input, if the value entered is other than 1 or 2, keep looping\n",
    "until the user enters a correct value. Use one counter to keep track of the\n",
    "number of passes, then calculate the number of failures after all the user’s\n",
    "inputs have been received."
   ]
  },
  {
   "cell_type": "code",
   "execution_count": null,
   "metadata": {},
   "outputs": [],
   "source": [
    "passes = 0\n",
    "fails = 0\n",
    "\n",
    "for student in range(10):\n",
    "    result = int(input('Enter Result, (1 = Pass, 2 = Fail): '))\n",
    "\n",
    "    while result != 1 and result != 2:\n",
    "        print('Wrong result entered.')\n",
    "        result = int(input('Enter Result, (1 = Pass, 2 = Fail): '))\n",
    "\n",
    "    if result == 1:\n",
    "        passes += 1\n",
    "\n",
    "print('Passed: ', passes)\n",
    "print('Failed:', 10 - passes)\n",
    "\n",
    "if passes > 8:\n",
    "    print('Tutor gets a bonus!')"
   ]
  },
  {
   "cell_type": "markdown",
   "metadata": {},
   "source": [
    "3.2 **(What’s Wrong with This Code?)** What is wrong with the following\n",
    "code?\n",
    "a = b = 7\n",
    "print('a =', a, '\\nb =', b)"
   ]
  },
  {
   "cell_type": "code",
   "execution_count": null,
   "metadata": {},
   "outputs": [],
   "source": [
    "a = b = 7\n",
    "print('a =', a,'\\nb =', b)"
   ]
  },
  {
   "cell_type": "markdown",
   "metadata": {},
   "source": [
    "3.3 **(What Does This Code Do?)** What does the following program print?"
   ]
  },
  {
   "cell_type": "code",
   "execution_count": null,
   "metadata": {},
   "outputs": [],
   "source": [
    "for row in range(10):\n",
    "    for column in range(10):\n",
    "        print('<' if row % 2 == 1 else '>',end='')\n",
    "    print()"
   ]
  },
  {
   "cell_type": "markdown",
   "metadata": {},
   "source": [
    "3.4 **(Fill in the Missing Code)** In the code below\n",
    "for ***:\n",
    "for ***:\n",
    "print('@')\n",
    "print()\n",
    "replace the *** so that when you execute the code, it displays two rows,\n",
    "each containing seven @ symbols, as in:\n",
    "@@@@@@@\n",
    "@@@@@@@"
   ]
  },
  {
   "cell_type": "code",
   "execution_count": null,
   "metadata": {},
   "outputs": [],
   "source": [
    "for row in range (2):\n",
    "    for column in range(7):\n",
    "        print('@', end= '')\n",
    "    print()\n"
   ]
  },
  {
   "cell_type": "markdown",
   "metadata": {},
   "source": [
    "3.5 **(if…else Statements)** Reimplement the script of Fig2.1. using three\n",
    "if…else statements rather than six if statements. [Hint: For example,\n",
    "think of == and != as “opposite” tests.]"
   ]
  },
  {
   "cell_type": "code",
   "execution_count": null,
   "metadata": {},
   "outputs": [],
   "source": [
    "print('Enter two numbers and I will tell you their relationship: ')\n",
    "\n",
    "num1 = int(input('Enter 1st number: '))\n",
    "num2 = int(input('Enter 2nd number: '))\n",
    "\n",
    "if num1 == num2:\n",
    "    print(f'{num1} is equal to {num2}')\n",
    "else:\n",
    "    print(f'{num1} is not equal to {num2}')\n",
    "\n",
    "if num1 > num2:\n",
    "    print(f'{num1} is greater than {num2}')\n",
    "else:\n",
    "    print(f'{num1} is less than {num2}')\n",
    "\n",
    "if num1 < num2:\n",
    "    print(f'{num1} is less than {num2}')\n",
    "else:\n",
    "    print(f'{num1} is greater than {num2}')"
   ]
  },
  {
   "cell_type": "markdown",
   "metadata": {},
   "source": [
    " 3.6 **(Turing Test)** The great British mathematician Alan Turing proposed a simple test to determine whether machines could exhibit intelligent behavior. A user sits at a computer and does the same text chat with a human sitting at a computer and a computer operating by itself. The user doesn’t know if the responses are coming back from the human or the independent computer. If the user can’t distinguish which responses are coming from the human and which are coming from the computer, then it’s reasonable to say that the computer is exhibiting intelligence.\n",
    " Create a script that plays the part of the independent computer, giving its user a simple medical diagnosis. The script should prompt the user with 'What is your problem?' When the user answers and presses Enter, the script should simply ignore the user’s input, then prompt the user again with 'Have you had this problem before (yes or no)?' If the user enters 'yes', print 'Well, you have it again.' If the user answers 'no', print 'Well, you have it now.' \n",
    " Would this conversation convince the user that the entity at the other end exhibited intelligent behavior? Why or why not?"
   ]
  },
  {
   "cell_type": "code",
   "execution_count": null,
   "metadata": {},
   "outputs": [],
   "source": [
    "disease = str(input('What is your problem'))\n",
    "response = str(input('Have you had this problem before(yes/no): '))\n",
    "\n",
    "if response.lower() == 'yes':\n",
    "    print('Well, you have it again')\n",
    "if response.lower() == 'no':\n",
    "    print('Well, you have it now')"
   ]
  },
  {
   "cell_type": "markdown",
   "metadata": {},
   "source": [
    "3.7 **(Table of Bacteria)** In Exercise 2.8, you wrote a script to calculate the growth in the number of bacteria after 0, 5, 10 and 15 hours, then printed the resulting values in table format. Reimplement your script using a for loop and the f-string capabilities you learned in this chapter to produce the following table with the numbers right aligned in each column"
   ]
  },
  {
   "cell_type": "code",
   "execution_count": null,
   "metadata": {},
   "outputs": [],
   "source": [
    "bacteria = int(input('Enter the number of bacteria'))\n",
    "print(f'Hour \\t {\"Number of Bacteria\":>21}')\n",
    "for hour in range(0, 16, 5):  \n",
    "    print(f'{hour:>4}\\t{bacteria* 2**hour:>20}')"
   ]
  },
  {
   "cell_type": "markdown",
   "metadata": {},
   "source": [
    "3.8 **(Flu Patients Data Processing)** During the flu season, it is important to keep track of the number of infected patients. Write a script in which the user can input the number of reported infections per day over a week. Calculate the total, average, smallest, and largest of these values. Write your script in a loop structure."
   ]
  },
  {
   "cell_type": "code",
   "execution_count": null,
   "metadata": {},
   "outputs": [],
   "source": [
    "total = 0\n",
    "\n",
    "new = int(input('Enter the number of new infections'))\n",
    "largest = new\n",
    "smallest = new\n",
    "\n",
    "for day in range(6):\n",
    "    new = int(input('Enter the number of new infections'))\n",
    "    total += new\n",
    "\n",
    "    if new > largest:\n",
    "        largest = new\n",
    "    \n",
    "    if new < smallest:\n",
    "        smallest = new\n",
    "\n",
    "print('Total number of infections this week: ', total)\n",
    "print('The largest number of infections: ', largest)\n",
    "print('The least number of infections: ', smallest)\n",
    "print('The average number of infections: ', total / 7)"
   ]
  },
  {
   "cell_type": "markdown",
   "metadata": {},
   "source": [
    "3.9 **(Calculating Time)** In exercise 2.11, you wrote a script that calculated the number of hours, minutes, and remaining seconds based on the number of seconds received through user input. Reimplement your script to use a loop that in an iterative process \"picks off\" the hours, minutes, and remaining seconds using // and % operators"
   ]
  },
  {
   "cell_type": "code",
   "execution_count": null,
   "metadata": {},
   "outputs": [],
   "source": [
    "seconds = int(input('Enter the number of seconds: '))\n",
    "\n",
    "divisor = 3600\n",
    "\n",
    "while seconds > 60:\n",
    "    hours = seconds // divisor\n",
    "    print(hours, ' ', end = ' ')\n",
    "    seconds %= divisor\n",
    "    divisor //= 60\n",
    "\n",
    "print(seconds)"
   ]
  },
  {
   "cell_type": "markdown",
   "metadata": {},
   "source": [
    "3.10 **(Hourly Wage Calculator)** Reimplement exercise 2.12 to use a loop that calculates and displays the hourly wage an employee earns after a good performance review for years 1 through 10"
   ]
  },
  {
   "cell_type": "code",
   "execution_count": null,
   "metadata": {},
   "outputs": [],
   "source": [
    "wage = 10\n",
    "rate = 0.03\n",
    "\n",
    "for year in range(10):\n",
    "    print(f'Wage after {year} year(s): {wage * (1 + rate) ** year:.2f}')"
   ]
  },
  {
   "cell_type": "markdown",
   "metadata": {},
   "source": [
    "3.11 **(Rabbit Birth)** A farmer wants to keep track of the average number of rabbits born on his farm every month. He records the number of does (female rabbits) he has combined with the number of rabbits born each month. Develop a sentine-controlled-repetition script that prompts the user to input the number of does living in the farm and the number of rabbits born in a specific month. After processing all the input information, the script should calculate and display the combined average number of rabbits born per doe."
   ]
  },
  {
   "cell_type": "code",
   "execution_count": null,
   "metadata": {},
   "outputs": [],
   "source": [
    "total_does = 0\n",
    "total_baby_rabbits = 0\n",
    "\n",
    "does = int(input('Enter the number of does in the rabbit colony(-1 to end): '))\n",
    "\n",
    "while does != -1:\n",
    "    baby_rabbits = int(input('Enter the number of baby rabbits born in the past month'))\n",
    "    \n",
    "    total_does += does\n",
    "    total_baby_rabbits += baby_rabbits\n",
    "\n",
    "    if baby_rabbits != 0:\n",
    "        print(f'On average, {baby_rabbits / does:.2f} baby rabbits were born for each doe')\n",
    "\n",
    "    does = int(input('Enter the number of does in the rabbit colony(-1 to end): '))\n",
    "\n",
    "if total_baby_rabbits != 0:\n",
    "    print(f'Total number of baby rabbits for each doe so far: {total_baby_rabbits / total_does:.2f}')\n"
   ]
  },
  {
   "cell_type": "markdown",
   "metadata": {},
   "source": [
    "3.12 **(Triangles)** In an equilateral triangle, the lengths of all 3 sides are equal. Consequently, it is also equiangular with all three internal angles congruent to each other and measuring 60 degrees. Write a script where a user can input the lenth of the 3 sides of the triangle. The script should determine if it's an equilateral triangle or not."
   ]
  },
  {
   "cell_type": "code",
   "execution_count": null,
   "metadata": {},
   "outputs": [],
   "source": [
    "side1 = int(input('Enter the 1st length'))\n",
    "side2 = int(input('Enter 2nd length'))\n",
    "side3 = int(input('Enter 3rd legth'))\n",
    "\n",
    "if side1 == side2 == side3:\n",
    "    print('Equilateral Triangle')\n",
    "else:\n",
    "    print('Non-equilateral triangle')"
   ]
  },
  {
   "cell_type": "markdown",
   "metadata": {},
   "source": [
    "3.13 **(Perfect Numbers)** In number theory, a perfect number is a positive integer that is equal to the sum of its divisors. Perfect numbers were first studied by the Pythagoreans who thought that they had mystical properties. They were also extensively studied by the Greeks (including Euclid) for their numerological properties.\n",
    "The smallest perfect number is 6, because 6 =  3 + 2 + 1, with 3, 2 and 1 being the divisors. Other examples of perfect number are 28, 496, 8128. Write a script that inputs a non-negative integer and displays whether it is a perfect number or not."
   ]
  },
  {
   "cell_type": "code",
   "execution_count": null,
   "metadata": {},
   "outputs": [],
   "source": [
    "number = int(input('Enter number: '))\n",
    "som = 0\n",
    "\n",
    "for n in range(1, number //2 + 1):\n",
    "    if number % n == 0:\n",
    "        som += n\n",
    "\n",
    "if som == number:\n",
    "    print(f'The number {number} is a perfect number')\n",
    "else:\n",
    "    print(f'The number {number} is not a perfect number')"
   ]
  },
  {
   "cell_type": "markdown",
   "metadata": {},
   "source": [
    "3.14 **(Challenge: Approximating the Mathematical constant pi)** Write a script that computes the value of pi from the following infinite series. Print a table that shows the value of approximated by one term of this series, by two terms , by three terms and so on. How many terms of this series do you have to use before you first get 3.14? 3.141? 3.1415? 3.14159? **Pi = 4 - 4/3 + 4/5 - 4/7 + 4/9 - 4/11 ..."
   ]
  },
  {
   "cell_type": "code",
   "execution_count": null,
   "metadata": {},
   "outputs": [],
   "source": [
    "'''Calculate pi from infinite series'''\n",
    "pi = 0\n",
    "numerator = 4.0\n",
    "denominator = 1.0\n",
    "accuracy = 100_000\n",
    "\n",
    "print(f'Accuracy: {accuracy}\\n')\n",
    "print(f'{\"Term\":<8}pi')\n",
    "\n",
    "for term in range(1, accuracy + 1):\n",
    "    if term % 2 != 0:\n",
    "        pi += numerator / denominator\n",
    "    else:\n",
    "        pi -= numerator / denominator\n",
    "    \n",
    "    print(f'{term:<8}{pi:.16f}')\n",
    "\n",
    "    denominator += 2"
   ]
  },
  {
   "cell_type": "markdown",
   "metadata": {},
   "source": [
    "3.15 **(Challenge: Fibbonacci Sequence)** In the fibonnacci sequence, each number is the sum of the two preceding ones. The 1st 10 Fibbonacci numbers are 0, 1, 2, 3, 5, 8, 13, 21, 34, ... Write a script where a user inputs a position (a number) and the number in that position in the Fibbonacci Sequence is displayed."
   ]
  },
  {
   "cell_type": "code",
   "execution_count": null,
   "metadata": {},
   "outputs": [],
   "source": [
    "pos = int(input('Give the position of the number you wish to see: '))\n",
    "\n",
    "previous = 0\n",
    "new = 1\n",
    "teller = 2\n",
    "\n",
    "while teller < pos:\n",
    "    current = new\n",
    "    new += previous\n",
    "    previous = current\n",
    "    teller += 1\n",
    "print(new)"
   ]
  },
  {
   "cell_type": "markdown",
   "metadata": {},
   "source": [
    "3.16 **(Fastest Runners)** Use a loop to find the fastest and the 2nd fastest from 10 runners whose speeds are entered. The speed of each runner is entered by the user in m/sec."
   ]
  },
  {
   "cell_type": "code",
   "execution_count": null,
   "metadata": {},
   "outputs": [],
   "source": [
    "first = int(input('Enter the speed of the 1st runner: '))\n",
    "second = int(input('Enter the speed of the 2nd runner: '))\n",
    "\n",
    "if second < first:\n",
    "    fastest = second\n",
    "    second_fastest = first\n",
    "else:\n",
    "    fastest = first\n",
    "    second_fastest = second\n",
    "\n",
    "\n",
    "for counter in range(2, 10):\n",
    "    new = int(input('Enter the speed for new runner: '))\n",
    "\n",
    "    if new < fastest:\n",
    "        second_fastest = fastest\n",
    "        fastest = new        \n",
    "    elif new < second_fastest:\n",
    "        second_fastest = new\n",
    "print(f'The fastest running time is {fastest}, and the 2nd fastest is {second_fastest}')"
   ]
  },
  {
   "cell_type": "markdown",
   "metadata": {},
   "source": [
    "3.17 **(Nested Loops)** Write a script that displays the following triangle patterns separately, one below the other. Separate each pattern from the next by one blank line. Use for loops to generate the patterns. Display all asterisks ( *) with a single statement of the form print('*', end='') which causes the asterisks to display side by side. [Hint: For the last two patterns, begin each line with zero or more space characters.]"
   ]
  },
  {
   "cell_type": "code",
   "execution_count": null,
   "metadata": {},
   "outputs": [],
   "source": [
    "# Triangle 1\n",
    "for row in range(1,11):\n",
    "    for column in range(1, row + 1):\n",
    "        print('*', end = '')\n",
    "    print()\n",
    "print()\n",
    "\n",
    "# Triangle 2\n",
    "for row in range(11, 1, -1):\n",
    "    for column in range(1, row +1):\n",
    "        print('*', end='')\n",
    "    print()\n",
    "print()\n",
    "\n",
    "# Triangle 3\n",
    "for row in range(10, 0, -1):\n",
    "    for space in range(10, row, -1):\n",
    "        print(' ', end='')\n",
    "    for column in range(1, row + 1 ):\n",
    "        print('*', end='')\n",
    "    print()\n",
    "print()\n",
    "\n",
    "#Triangle 4\n",
    "for row in range(10,0,-1):\n",
    "    for space in range(1, row):\n",
    "        print(' ', end='')\n",
    "    for column in range(10, row-1, -1):\n",
    "        print('*', end='')\n",
    "    print()\n",
    "print()"
   ]
  },
  {
   "cell_type": "markdown",
   "metadata": {},
   "source": [
    "3.18 **(Challenge: Nested Looping)** Modify your script from exercise 3.17 to display all the four patterns side-by-side by making a clever use of nested for loops. Separate each triangle from the next by three horizontal spaces.[Hint: One for loop should control the row number. Its nested for loops should calculate from the row number the appropriate number of asterisks and spaces for each of the four patterns.]"
   ]
  },
  {
   "cell_type": "code",
   "execution_count": null,
   "metadata": {},
   "outputs": [],
   "source": [
    "for row in range(1,11):\n",
    "    # First triangle\n",
    "    for column in range(1, row + 1):\n",
    "        print('*', end='')\n",
    "    for spaces in range(1, 10 - row):\n",
    "        print(' ', end='')\n",
    "\n",
    "    # Second Triangle\n",
    "    for column in range(10, row - 1, -1):\n",
    "        print('*', end='')\n",
    "    for spaces in range(1, row):\n",
    "        print(' ', end='')\n",
    "    \n",
    "    # Third triangle\n",
    "    for space in range(1, row):\n",
    "        print(' ', end='')\n",
    "    for row in range(10, row - 1, -1):\n",
    "        print('*', end='')\n",
    "\n",
    "    # Fourth triangle\n",
    "    for space in range(10, row, -1):\n",
    "        print(' ', end='')\n",
    "    for column in range(1, row + 1):\n",
    "        print('*', end='')\n",
    "    print()\n",
    "print()"
   ]
  },
  {
   "cell_type": "markdown",
   "metadata": {},
   "source": [
    "3.19 **(Prime Factorization)** A prime number is divisible only by itself and 1. The prime factors of a number are a set of prime factors that multiply together to result in the given number. Thus, if a number is a divider of the given number and also a prime number, it is a prime factor of the given number. Prime factorization is the search for all the prime factors of a given number. Write a script that uses a trial and error approach to determine the prime factors of the number 1537"
   ]
  },
  {
   "cell_type": "code",
   "execution_count": null,
   "metadata": {},
   "outputs": [],
   "source": [
    "number = int(input('Enter the number you wish to check: '))\n",
    "is_prime = 0\n",
    "\n",
    "for i in range(2, number + 1):\n",
    "    for j in range(2, i//2 + 1):\n",
    "        if number % i == 0:\n",
    "            is_prime = 1\n",
    "        if i % j == 0:\n",
    "            is_prime = 0\n",
    "            break\n",
    "    if is_prime == 1:\n",
    "        print(i)"
   ]
  },
  {
   "cell_type": "markdown",
   "metadata": {},
   "source": [
    "3.20 **(Binary-to-Decimal Conversion)** Input an integer containing 0s and 1s (i.e., a “binary” integer) and display its decimal equivalent. The online appendix, “Number Systems,” discusses the binary number system. [Hint: Use the modulus and division operators to pick off the “binary” number’s digits one at a time from right to left. Just as in the decimal number system, where the rightmost digit has the positional value 1 and the next digit to the left has the positional value 10, then 100, then 1000, etc., in the binary number system, the rightmost digit has the positional value 1, the next digit to the left has the positional value 2, then 4, then 8, etc. Thus, the decimal number 234 can be interpreted as 2 * 100 + 3 * 10 + 4 * 1. The decimal equivalent of binary 1101 is 1 * 8 + 1 * 4 + 0 * 2 + 1 * 1.]"
   ]
  },
  {
   "cell_type": "code",
   "execution_count": null,
   "metadata": {},
   "outputs": [],
   "source": [
    "binary = input('Enter a binary number')\n",
    "\n",
    "decimal = 0\n",
    "binary_len = len(binary)\n",
    "\n",
    "for i, digit in enumerate(binary[::-1]): #Iterate through digits from left to right\n",
    "    if digit == '1':\n",
    "        decimal += 2**i #Calculate the positional value and add to decimal\n",
    "print(f'The decimal equivalent of binary {binary} is {decimal}')"
   ]
  },
  {
   "cell_type": "markdown",
   "metadata": {},
   "source": [
    "3.21 **(Calculate distance in m, dm, cm, and mm)** A trainer wants to calculate the additional distance an athelete needs to jump to break the world recird for the longest long jump (8.85 m) Write a script that accepts the current jumping distance of the athlete in meters as input. Display the difference in distance between the world record and the current jump in m, dm, cm, and mm. "
   ]
  },
  {
   "cell_type": "code",
   "execution_count": null,
   "metadata": {},
   "outputs": [],
   "source": [
    "jump = float(input('Enter the current jump: ')) * 1000\n",
    "wr = 8.85 * 1000\n",
    "\n",
    "difference = wr - jump\n",
    "\n",
    "diff = difference / 1000\n",
    "metres = difference // 1000\n",
    "difference %= 1000\n",
    "dm = difference // 100\n",
    "difference %= 100\n",
    "cm = difference // 10\n",
    "mm = difference % 10\n",
    "\n",
    "print(f'You need to jump: {diff} additional metres to improve the world record')\n",
    "print(f'Metres: {metres}')\n",
    "print(f'Decimetres: {dm}')\n",
    "print(f'Centimetres: {cm}')\n",
    "print(f'Millimetres: {mm}')\n"
   ]
  },
  {
   "cell_type": "markdown",
   "metadata": {},
   "source": [
    "3.22 **(Optional else Clause of a Loop)** The while and\n",
    "for statements each have an optional else clause. In a while\n",
    "statement, the else clause executes when the condition becomes False.\n",
    "In a for statement, the else clause executes when there are no more\n",
    "items to process. If you break out of a while or for that has an else,\n",
    "the else part does not execute. Execute the following code to see that the\n",
    "else clause executes only if the break statement does not"
   ]
  },
  {
   "cell_type": "code",
   "execution_count": null,
   "metadata": {},
   "outputs": [],
   "source": [
    "for i in range(2):\n",
    "    value = int(input('Enter an integer (-1 to break): '))\n",
    "    print('You entered:', value)\n",
    "    if value == -1:\n",
    "        break\n",
    "    else:\n",
    "        print('The loop terminated without executing the break')"
   ]
  },
  {
   "cell_type": "markdown",
   "metadata": {},
   "source": [
    "3.27. **(World Population Growth)**World population has grown considerably over the centuries. Continued growth could eventually challenge the limits of breathable air, drinkable water, arable land and other limited resources. There’s evidence that growth has been slowing in recent years and that world population could peak some time this century, then start to decline. For this exercise, research world population growth issues. This is a controversial topic, so be sure to investigate various viewpoints. Get estimates for the current world population and its growth rate. Write a script that calculates world population growth each year for the next 100 years, using the simplifying assumption that the current growth rate will stay constant . Print the results in a table. The first column should display the year from 1 to 100. The second column should display the anticipated world population at the end of that year. The third column should display the numerical increase in the world population that would occur that year. Using your results, determine the years in which the population would be double and eventually quadruple what it is today."
   ]
  },
  {
   "cell_type": "code",
   "execution_count": null,
   "metadata": {},
   "outputs": [],
   "source": [
    "# Initialize Values\n",
    "current_pop = 7_800_000_000\n",
    "growth_rate = 1.05\n",
    "\n",
    "# Initialize lists to store data for the table\n",
    "years = []\n",
    "pop_values = []\n",
    "pop_inc_values = []\n",
    "\n",
    "# Calculate and store population values for each year\n",
    "for year in range(1, 101):\n",
    "    pop_increase = current_pop * growth_rate\n",
    "    current_pop += pop_increase\n",
    "\n",
    "    years.append(year)\n",
    "    pop_values.append(current_pop)\n",
    "    pop_inc_values.append(pop_increase)\n",
    "\n",
    "# Find years with double and quadruple the population\n",
    "double_year = None\n",
    "quadruple_year = None\n",
    "\n",
    "for year, pop in zip(years, pop_values):\n",
    "    if pop >= current_pop * 2 and double_year is None:\n",
    "        double_year = year\n",
    "    if pop >= current_pop * 4 and quadruple_year is None:\n",
    "        quadruple_year = year\n",
    "    if double_year is not None and quadruple_year is not None:\n",
    "        break\n",
    "\n",
    "print(f\"{'Year':<6}{'Population':>20}{'Increase':>20}\")\n",
    "for year, pop, increase in zip(years,pop_values, pop_inc_values):\n",
    "    print(f\"{year:<6} {int(pop):>20} {int(increase):>20}\")\n",
    "\n",
    "print(f\"\\nThe population will double in year {double_year}.\")\n",
    "print(f\"The population will quadruple in year {quadruple_year}.\")"
   ]
  },
  {
   "cell_type": "markdown",
   "metadata": {},
   "source": [
    "3.28 **(Intro to Data Science: Mean, Median and Mode)** Calculate the mean, median and mode of the temperatures measured in Sydney on the first 9 days of february. 19.5, 19.5, 21.6, 20.2, 19.7, 20.2, 18.6, 17.2, and 19.5. Suppose 20.2 is measured on day 10. What problem might occur?"
   ]
  },
  {
   "cell_type": "code",
   "execution_count": null,
   "metadata": {},
   "outputs": [],
   "source": [
    "import statistics as stats\n",
    "values = [19.5, 19.5, 21.6, 20.2, 19.7, 20.2, 18.6, 17.2, 19.5, 20.2]\n",
    "print(\"The mean is: \", stats.mean(values))\n",
    "print(\"The median is: \", stats.median(values))\n",
    "print(\"The mode is: \", stats.mode(values))"
   ]
  }
 ],
 "metadata": {
  "kernelspec": {
   "display_name": "base",
   "language": "python",
   "name": "python3"
  },
  "language_info": {
   "codemirror_mode": {
    "name": "ipython",
    "version": 3
   },
   "file_extension": ".py",
   "mimetype": "text/x-python",
   "name": "python",
   "nbconvert_exporter": "python",
   "pygments_lexer": "ipython3",
   "version": "3.11.4"
  },
  "orig_nbformat": 4
 },
 "nbformat": 4,
 "nbformat_minor": 2
}
