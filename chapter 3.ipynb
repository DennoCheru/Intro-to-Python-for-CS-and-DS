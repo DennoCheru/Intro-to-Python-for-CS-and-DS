{
 "cells": [
  {
   "cell_type": "code",
   "execution_count": null,
   "metadata": {},
   "outputs": [],
   "source": [
    "# Exercise 3.1\n",
    "\"\"\"Using nested control statements to analyze examination results.\"\"\" \n",
    "\n",
    "passes = 0 #Initialize passes\n",
    "\n",
    "for students in range(10):\n",
    "    result = int(input(\"Enter results for student. (1 = Pass, 2 = Fail)\"))\n",
    "\n",
    "    while result != 1 and result !=2:\n",
    "        print('Incorrect result entered')\n",
    "        result = int(input(\"Enter results for student. (1 = Pass, 2 = Fail)\"))\n",
    "    if result == 1:\n",
    "        passes +=1\n",
    "\n",
    "print('Passed:', passes)\n",
    "print('Failed:', 10 - passes)\n",
    "\n",
    "if passes > 8:\n",
    "    print('Bonus to Teacher')"
   ]
  },
  {
   "cell_type": "code",
   "execution_count": null,
   "metadata": {},
   "outputs": [],
   "source": [
    "a = b = 7\n",
    "print('a =', a,'\\nb =', b)"
   ]
  },
  {
   "cell_type": "code",
   "execution_count": null,
   "metadata": {},
   "outputs": [],
   "source": [
    "for row in range(10):\n",
    "    for column in range(10):\n",
    "        print('<' if row % 2 == 1 else '>', end=' ')\n",
    "    print()"
   ]
  },
  {
   "cell_type": "code",
   "execution_count": null,
   "metadata": {},
   "outputs": [],
   "source": [
    "for row in range(3):\n",
    "    for column in range(3):\n",
    "        print('0', end=' ')\n",
    "    print()"
   ]
  },
  {
   "cell_type": "code",
   "execution_count": null,
   "metadata": {},
   "outputs": [],
   "source": [
    "# if ...else \n",
    "'''Class average program.'''\n",
    "\n",
    "# Initialization phase\n",
    "print('Enter two number and I will tell you their relationship')\n",
    "number1 = int(input('Enter 1st number: '))\n",
    "number2 = int(input('Enter 2nd number: '))\n",
    "\n",
    "# Processing phase\n",
    "if number1 == number2:\n",
    "    print(f'{number1} is equal to {number2}')\n",
    "elif number1 < number2:\n",
    "    print(f'{number1} is less than {number2}')\n",
    "else:\n",
    "    print(f'{number1} is less than {number2} ')\n",
    "\n"
   ]
  },
  {
   "cell_type": "code",
   "execution_count": 1,
   "metadata": {},
   "outputs": [
    {
     "name": "stdout",
     "output_type": "stream",
     "text": [
      "Well, you have it now\n"
     ]
    }
   ],
   "source": [
    "# Turing test\n",
    "problem = input('What is your problem? ')\n",
    "\n",
    "response = input('Have you had this problem before? (yes or no)')\n",
    "\n",
    "if response == 'yes':\n",
    "    print('Well, you have it again.')\n",
    "elif response == 'no':\n",
    "    print('Well, you have it now')\n",
    "else:\n",
    "    print('Wrong response entered')"
   ]
  },
  {
   "cell_type": "code",
   "execution_count": 2,
   "metadata": {},
   "outputs": [
    {
     "name": "stdout",
     "output_type": "stream",
     "text": [
      "Hour\t Number of Bacteria\n",
      "0 \t      150\n",
      "5 \t     4800\n",
      "10 \t   153600\n",
      "15 \t  4915200\n"
     ]
    }
   ],
   "source": [
    "# Table of Bacteria\n",
    "bacteria = int(input('Enter the number of bacteria:'))\n",
    "print('Hour\\t Number of Bacteria')\n",
    "for x in range(0,16,5):\n",
    "    colony = bacteria*2**x\n",
    "    print(f'{x} \\t {colony:>8}')"
   ]
  },
  {
   "cell_type": "code",
   "execution_count": 3,
   "metadata": {},
   "outputs": [
    {
     "name": "stdout",
     "output_type": "stream",
     "text": [
      "Total number of patients: 313\n",
      "Average number of patients: 44.714285714285715\n",
      "Smallest number is 4\n",
      "Highest number is: 96\n"
     ]
    }
   ],
   "source": [
    "# Flu patients Data processing\n",
    "'''Tracking number of infected patients'''\n",
    "total = 0\n",
    "\n",
    "new = int(input('Enter additional number of infected patients'))\n",
    "largest = new\n",
    "smallest = new\n",
    "\n",
    "for i in range(6):\n",
    "    new = int(input('Enter additional number of infected patients'))\n",
    "    total += new\n",
    "\n",
    "    if new < smallest:\n",
    "        smallest = new\n",
    "\n",
    "    if new > largest:\n",
    "        largest = new\n",
    "print('Total number of patients infected in one week:', total)\n",
    "print('Average number of patients per day:', total/7)\n",
    "print('Smallest number in a day is', smallest)\n",
    "print('Highest number in a day is:', largest)"
   ]
  },
  {
   "cell_type": "code",
   "execution_count": 4,
   "metadata": {},
   "outputs": [
    {
     "name": "stdout",
     "output_type": "stream",
     "text": [
      "1   2   30\n"
     ]
    }
   ],
   "source": [
    "# Calculating Time\n",
    "\"\"\"Calculating how many hours and minutes in a number of seconds\"\"\"\n",
    "seconds = int(input('Enter the number of seconds: '))\n",
    "divisor = 3600\n",
    "\n",
    "while seconds > 60:\n",
    "    value = seconds // divisor\n",
    "    print(value, ' ', end=' ')\n",
    "    seconds %= divisor\n",
    "    divisor //= 60\n",
    "\n",
    "print(seconds)"
   ]
  },
  {
   "cell_type": "code",
   "execution_count": 6,
   "metadata": {},
   "outputs": [
    {
     "name": "stdout",
     "output_type": "stream",
     "text": [
      "Wage after 1 years is 30900.0\n",
      "Wage after 2 years is 31827.0\n",
      "Wage after 3 years is 32781.81\n",
      "Wage after 4 years is 33765.2643\n",
      "Wage after 5 years is 34778.222229\n",
      "Wage after 6 years is 35821.568895870005\n",
      "Wage after 7 years is 36896.21596274611\n",
      "Wage after 8 years is 38003.10244162849\n",
      "Wage after 9 years is 39143.19551487735\n",
      "Wage after 10 years is 40317.49138032366\n"
     ]
    }
   ],
   "source": [
    "# Hourly wage Calculator\n",
    "wage = int(input('Enter initial wage'))\n",
    "rate = 0.03\n",
    "\n",
    "for i in range(1,11):\n",
    "    newWage = wage * (1 + rate) ** i\n",
    "    print(f'Wage after {i} years is {newWage}')"
   ]
  },
  {
   "cell_type": "code",
   "execution_count": 10,
   "metadata": {},
   "outputs": [
    {
     "name": "stdout",
     "output_type": "stream",
     "text": [
      "On average 60.0 baby rabbits were born to each doe\n",
      "On average 14.833333333333334 baby rabbits were born to each doe\n",
      "Average number of baby rabbits per doe so far: 35.36363636363637\n"
     ]
    }
   ],
   "source": [
    "# Rabbit Births\n",
    "total_does = 0\n",
    "total_rabbits = 0\n",
    "\n",
    "does = int(input('Enter the number of does in the rabbit colony'))\n",
    "\n",
    "while does != -1:\n",
    "    rabbits = int(input('Enter the number of baby rabbits born in the past month: '))\n",
    "\n",
    "    total_does += does\n",
    "    total_rabbits += rabbits\n",
    "\n",
    "    if rabbits != 0:\n",
    "        avg = rabbits / does\n",
    "        print(f'On average {avg} baby rabbits were born to each doe')\n",
    "\n",
    "    does = int(input('Enter the number of does in the rabbit colony'))\n",
    "if total_rabbits != 0:\n",
    "    avg = total_rabbits/total_does\n",
    "    print(f'Average number of baby rabbits per doe so far: {avg}')\n",
    "\n",
    "    \n"
   ]
  },
  {
   "cell_type": "code",
   "execution_count": 12,
   "metadata": {},
   "outputs": [
    {
     "name": "stdout",
     "output_type": "stream",
     "text": [
      "This isn't an equilateral triangle\n"
     ]
    }
   ],
   "source": [
    "# Triangles\n",
    "side1 = int(input('Input 1st side: '))\n",
    "side2 = int(input('Input 2nd side: '))\n",
    "side3 = int(input('Input 3rd side: '))\n",
    "\n",
    "if side1 == side2 == side3:\n",
    "    print('This is an equilateral triangle')\n",
    "else:\n",
    "    print('This isn\\'t an equilateral triangle')"
   ]
  },
  {
   "cell_type": "code",
   "execution_count": 14,
   "metadata": {},
   "outputs": [
    {
     "name": "stdout",
     "output_type": "stream",
     "text": [
      "6 is a perfect number\n"
     ]
    }
   ],
   "source": [
    "# Perfect number\n",
    "\"\"\"Determine if a number is a perfect number\"\"\"\n",
    "number = int(input('Which number do you want to test? '))\n",
    "x = 0\n",
    "\n",
    "for i in range(1,number // 2 + 1):\n",
    "    if number % i == 0:\n",
    "        x += i\n",
    "if x == number:\n",
    "    print(number, 'is a perfect number')\n",
    "else:\n",
    "    print(number, 'is not a perfect number')"
   ]
  },
  {
   "cell_type": "code",
   "execution_count": null,
   "metadata": {},
   "outputs": [],
   "source": [
    "# Approximating mathematical constant pi\n"
   ]
  }
 ],
 "metadata": {
  "kernelspec": {
   "display_name": "Python 3",
   "language": "python",
   "name": "python3"
  },
  "language_info": {
   "codemirror_mode": {
    "name": "ipython",
    "version": 3
   },
   "file_extension": ".py",
   "mimetype": "text/x-python",
   "name": "python",
   "nbconvert_exporter": "python",
   "pygments_lexer": "ipython3",
   "version": "3.11.5"
  },
  "orig_nbformat": 4
 },
 "nbformat": 4,
 "nbformat_minor": 2
}
