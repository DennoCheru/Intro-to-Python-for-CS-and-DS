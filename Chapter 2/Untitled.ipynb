{
 "cells": [
  {
   "cell_type": "code",
   "execution_count": null,
   "id": "89a2f390-98af-401f-8314-13fcba872638",
   "metadata": {},
   "outputs": [],
   "source": [
    "x = 2 \n",
    "y = 3"
   ]
  },
  {
   "cell_type": "code",
   "execution_count": null,
   "id": "117d7049-fe51-42e4-9a78-42b70fb2c525",
   "metadata": {},
   "outputs": [],
   "source": [
    "print('x=', x)"
   ]
  },
  {
   "cell_type": "code",
   "execution_count": null,
   "id": "12bb4a94-9e6d-45e0-9a2e-8ae1dc994630",
   "metadata": {},
   "outputs": [],
   "source": [
    "print('Value of', x, '+', x, 'is', (x+x))"
   ]
  },
  {
   "cell_type": "code",
   "execution_count": null,
   "id": "c9d7e9ed-f69a-4326-a907-f41764f0e756",
   "metadata": {},
   "outputs": [],
   "source": [
    "print ('x =')"
   ]
  },
  {
   "cell_type": "code",
   "execution_count": null,
   "id": "2fe050f8-50dc-466f-b894-05b6bd6f504c",
   "metadata": {},
   "outputs": [],
   "source": [
    "print((x+y),'=',(y+x))"
   ]
  },
  {
   "cell_type": "code",
   "execution_count": null,
   "id": "f75d1bcd-6bc8-4cd3-9c60-76ab3321671a",
   "metadata": {},
   "outputs": [],
   "source": [
    "# What's wrong with this code\n",
    "number = int(input(\"Input a number:\"))\n",
    "square = number ** 2\n",
    "print(f'The square of {number} is {square}')"
   ]
  },
  {
   "cell_type": "code",
   "execution_count": null,
   "id": "6ef6ea02-4b11-4c4f-9074-91584a059a06",
   "metadata": {},
   "outputs": [],
   "source": [
    "#Eggs per box\n",
    "eggs = int(input('How many eggs do you have?'))\n",
    "boxes = eggs//6\n",
    "eggs_rem = eggs%6\n",
    "fill = 6 - eggs_rem\n",
    "print(f'You will need {boxes} boxes, you will remain with {eggs_rem} eggs  and you will need {fill} eggs to fill ta new box')"
   ]
  },
  {
   "cell_type": "code",
   "execution_count": null,
   "id": "e85ce510-c8cb-4d42-aefe-2e8c821b5d07",
   "metadata": {},
   "outputs": [],
   "source": [
    "# Odd or even\n",
    "number = int(input('Enter a number'))\n",
    "if number % 2 == 0:\n",
    "    print(f'{number} is an even number')\n",
    "else:\n",
    "    print(f'{number} is an odd number')"
   ]
  },
  {
   "cell_type": "code",
   "execution_count": null,
   "id": "bc3a83af-4e1b-4c87-9d6a-a7b183a05837",
   "metadata": {},
   "outputs": [],
   "source": [
    "# The Remainder Operator\n",
    "marbles = int(input('Enter number of marbles:'))\n",
    "friends = int(input('Enter number of Friends:'))\n",
    "if marbles % friends == 0:\n",
    "    print(f'Each of your {friends} friends will receive {marbles/friends} marbles')\n",
    "else:\n",
    "    print(f'You cannot divide {marbles} marbles equally among {friends} friends.')"
   ]
  },
  {
   "cell_type": "code",
   "execution_count": null,
   "id": "55e95d91-e231-454a-bff9-c6edd36a806e",
   "metadata": {},
   "outputs": [],
   "source": [
    "# Table with Number of Bacteria\n",
    "bacteria = int(input('Enter the number of bacteria:'))\n",
    "print('Hour\\t Number of Bacteria')\n",
    "for x in range(0,16,5):\n",
    "    colony = bacteria*2**x\n",
    "    print(f'{x} \\t {colony:>8}')"
   ]
  },
  {
   "cell_type": "code",
   "execution_count": null,
   "id": "6c3b54dd-6847-4072-9069-cf615ae428dc",
   "metadata": {},
   "outputs": [],
   "source": [
    "# Fill in the missing code\n",
    "grade = 91\n",
    "if grade >= 90:\n",
    "    print('Congratulations! Your score of', grade,'earns you an A in this course')"
   ]
  },
  {
   "cell_type": "code",
   "execution_count": null,
   "id": "4263308b-72ed-4718-a55d-a5ab55cacdc7",
   "metadata": {},
   "outputs": [],
   "source": [
    "# Integer Value of a Character\n",
    "name1 = input('Enter 1st name')\n",
    "name2 = input('Enter 2nd name')\n",
    "total1 = 0\n",
    "total2 = 0\n",
    "for x in name1:\n",
    "    total1 += ord(x)\n",
    "print(f\"{name1}'s value is {total1}\")\n",
    "\n",
    "for x in name2:\n",
    "    total2 += ord(x)\n",
    "print(f\"{name2}'s value is {total2}\")\n",
    "\n",
    "if total1 > total2:\n",
    "    print(f'{name1} is player 1')\n",
    "else:\n",
    "    print(f'{name2} is player 1')"
   ]
  },
  {
   "cell_type": "code",
   "execution_count": null,
   "id": "24e4b644-b97b-409b-98e9-a0d3ce7db555",
   "metadata": {},
   "outputs": [],
   "source": [
    "# Arithmetic Highest and Lowest\n",
    "math = int(input('Enter grade for Math:'))\n",
    "english = int(input('Enter grade for English:'))\n",
    "swahili = int(input('Enter grade for Swahili:'))\n",
    "print('Average score:', (math + english + swahili) / 3)\n",
    "\n",
    "smallest = math\n",
    "course = 'Math'\n",
    "\n",
    "if english < smallest:\n",
    "    smallest = english\n",
    "    course = 'English'\n",
    "if swahili < smallest:\n",
    "    smallest = swahili\n",
    "    course = 'Swahili'\n",
    "    \n",
    "print(f'The lowest grades are for {course} with a score of {smallest}')\n",
    "\n",
    "largest = math\n",
    "course = math\n",
    "\n",
    "if english > largest:\n",
    "    largest = english\n",
    "    course = 'English'\n",
    "if swahili > largest:\n",
    "    largest = swahili\n",
    "    course = 'Swahili'\n",
    "    \n",
    "print(f'The highest grades are for {course} with a score of {largest}')"
   ]
  },
  {
   "cell_type": "code",
   "execution_count": null,
   "id": "43ff6723-9f73-414c-ae8d-2e5f3596b762",
   "metadata": {},
   "outputs": [],
   "source": [
    "# Calculating Time\n",
    "seconds = int(input('Enter the number of seconds:'))\n",
    "hours = seconds // 3600\n",
    "seconds = seconds % 3600\n",
    "\n",
    "minutes = seconds // 60\n",
    "seconds = seconds % 60\n",
    "\n",
    "print(f'{hours} - {minutes} - {seconds}')"
   ]
  },
  {
   "cell_type": "code",
   "execution_count": null,
   "id": "ded8f687-7598-4319-9ff4-7ef0aaf6b484",
   "metadata": {},
   "outputs": [],
   "source": [
    "# Hourly Wage Calculator\n",
    "wage = int(input('Enter Original Wage'))\n",
    "inc = int("
   ]
  }
 ],
 "metadata": {
  "kernelspec": {
   "display_name": "Python 3 (ipykernel)",
   "language": "python",
   "name": "python3"
  },
  "language_info": {
   "codemirror_mode": {
    "name": "ipython",
    "version": 3
   },
   "file_extension": ".py",
   "mimetype": "text/x-python",
   "name": "python",
   "nbconvert_exporter": "python",
   "pygments_lexer": "ipython3",
   "version": "3.11.3"
  }
 },
 "nbformat": 4,
 "nbformat_minor": 5
}
