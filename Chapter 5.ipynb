{
 "cells": [
  {
   "cell_type": "markdown",
   "metadata": {},
   "source": [
    "5.3 **(Fill in the Missing Code)** Replace the ***s in the following list comprehension and\n",
    "map function call, such that given a list of heights in inches, the code maps the list to a list\n",
    "of tuples containing the original height values and their corresponding values in meters.\n",
    "For example, if one element in the original list contains the height 69 inches, the corresponding element in the new list will contain the tuple (69, 1.7526), representing both\n",
    "the height in inches and the height in meters. There are 0.0254 meters per inch. "
   ]
  },
  {
   "cell_type": "code",
   "execution_count": 1,
   "metadata": {},
   "outputs": [
    {
     "data": {
      "text/plain": [
       "[(69, 1.7526), (77, 1.9558), (54, 1.3716)]"
      ]
     },
     "execution_count": 1,
     "metadata": {},
     "output_type": "execute_result"
    }
   ],
   "source": [
    "[(x, x * 0.0254) for x in [69, 77, 54]]"
   ]
  },
  {
   "cell_type": "code",
   "execution_count": 3,
   "metadata": {},
   "outputs": [
    {
     "data": {
      "text/plain": [
       "[(69, 1.7526), (77, 1.9558), (54, 1.3716)]"
      ]
     },
     "execution_count": 3,
     "metadata": {},
     "output_type": "execute_result"
    }
   ],
   "source": [
    "\n",
    "list(map(lambda x: (x, x * 0.0254), [69, 77, 54]))"
   ]
  },
  {
   "cell_type": "markdown",
   "metadata": {},
   "source": [
    "5.4 **(Square Numbers)** A square number is the product of an integer with itself. 16, for\n",
    "example, is the product of 4 with itself and is thus a square number. Write a program that\n",
    "can visualize that 16 is a square number. Use a loop to create a 4-by-4 list containing zeros.\n",
    "Display each element of this list in tabular format. Use the column indices as headings\n",
    "across the top, and the row indices to the left of each row. "
   ]
  },
  {
   "cell_type": "code",
   "execution_count": 10,
   "metadata": {},
   "outputs": [
    {
     "name": "stdout",
     "output_type": "stream",
     "text": [
      "    [0][1][2][3]\n",
      "[0]  0  0  0  0\n",
      "[1]  0  0  0  0\n",
      "[2]  0  0  0  0\n",
      "[3]  0  0  0  0\n"
     ]
    }
   ],
   "source": [
    "import math\n",
    "# Find sqrt of 16\n",
    "num = int(math.sqrt(16))\n",
    "# Create a list of 0s the square of the root\n",
    "row = [0] * num\n",
    "values = []\n",
    "\n",
    "# Fill the list\n",
    "for i in range(num):\n",
    "    values.append(row)\n",
    "\n",
    "print(\"    \", end='')\n",
    "# for loop to iterate between columns and rows.\n",
    "for col in range(len(values[0])):\n",
    "    print(f\"{[col]}\", end='')\n",
    "print()\n",
    "for _, row in enumerate(values):\n",
    "    print(F\"{[_]}\", end='')\n",
    "\n",
    "    for value in row:\n",
    "        print(f\"{value:3d}\",end='')\n",
    "    print()"
   ]
  },
  {
   "cell_type": "markdown",
   "metadata": {},
   "source": [
    "5.5 **(List Slicing)** Create a list called numbers containing \"1, 2, 3, 4, 5, 6, 7, 8,\n",
    "9, 10, 11, 12, 13, 14, 15, 16, 17, 18, 19, 20,\" then perform slicing operations\n",
    "to obtain the following: \n",
    "a) The third number,\n",
    "b) The first five numbers,\n",
    "c) The first half of the list,\n",
    "d) The last five numbers,\n",
    "e) Every other number,\n",
    "f) The numbers in reverse order, and\n",
    "g) The third last number"
   ]
  },
  {
   "cell_type": "code",
   "execution_count": 7,
   "metadata": {},
   "outputs": [
    {
     "name": "stdout",
     "output_type": "stream",
     "text": [
      "[1, 2, 3, 4, 5, 6, 7, 8, 9, 10, 11, 12, 13, 14, 15, 16, 17, 18, 19, 20]\n",
      "3\n",
      "[1, 2, 3, 4, 5]\n",
      "[1, 2, 3, 4, 5, 6, 7, 8, 9, 10]\n",
      "[16, 17, 18, 19, 20]\n",
      "[1, 3, 5, 7, 9, 11, 13, 15, 17, 19]\n",
      "[20, 19, 18, 17, 16, 15, 14, 13, 12, 11, 10, 9, 8, 7, 6, 5, 4, 3, 2, 1]\n",
      "18\n"
     ]
    }
   ],
   "source": [
    "numbers = [x for x in range(1,21)]\n",
    "# Print all numbers\n",
    "print(numbers)\n",
    "#Print 3rd number\n",
    "print(numbers[2])\n",
    "# Print first 5 numbers\n",
    "print(numbers[0:5])\n",
    "# Print 1st half of list\n",
    "print(numbers[:len(numbers) // 2])\n",
    "# print last 5 numbers\n",
    "print(numbers[len(numbers)-5:])\n",
    "# Print every other number\n",
    "print(numbers[::2])\n",
    "# Numbers in reverse order\n",
    "print(numbers[::-1])\n",
    "# Third last number\n",
    "print(numbers[-3])\n"
   ]
  },
  {
   "cell_type": "markdown",
   "metadata": {},
   "source": [
    "5.6 **(Fibonacci)** As seen in Exercise 3.15, the Fibonacci numbers are a sequence in which\n",
    "each number is the sum of the two preceding ones. Define a function fib that receives three\n",
    "consecutive numbers of the Fibonacci series and returns the three subsequent values. Then,\n",
    "call the function three times starting with the numbers 0, 1, and 1 and restarting the function each time with the resulting numbers of the previous iteration."
   ]
  },
  {
   "cell_type": "code",
   "execution_count": 14,
   "metadata": {},
   "outputs": [
    {
     "name": "stdout",
     "output_type": "stream",
     "text": [
      "one: 0; two : 1; three: 1\n",
      "one: 2; two : 3; three: 5\n",
      "one: 8; two : 13; three: 21\n",
      "one: 34; two : 55; three: 89\n"
     ]
    }
   ],
   "source": [
    "def main():\n",
    "    # Receiving the 1st 3 numbers of sequence\n",
    "    one = int(input(\"Enter the 1st number of the sequence: \"))\n",
    "    two = int(input(\"Enter the 2nd number of the sequence: \"))\n",
    "    three = int(input(\"Enter the 3rd number of the sequence: \"))\n",
    "\n",
    "    # Original numbers\n",
    "    print(f\"one: {one}; two : {two}; three: {three}\")\n",
    "\n",
    "    # First iteration\n",
    "    one, two, three = fib(one, two, three)\n",
    "    print(f\"one: {one}; two : {two}; three: {three}\")\n",
    "\n",
    "    # Second iteration\n",
    "    one, two, three = fib(one, two, three)\n",
    "    print(f\"one: {one}; two : {two}; three: {three}\")\n",
    "\n",
    "    # Third iteration\n",
    "    one, two, three = fib(one, two, three)\n",
    "    print(f\"one: {one}; two : {two}; three: {three}\")\n",
    "#  define function fib\n",
    "def fib(number1, number2, number3):\n",
    "    number1 = number2 + number3\n",
    "    number2 = number1 + number3\n",
    "    number3 = number1 + number2\n",
    "    return number1, number2, number3\n",
    "\n",
    "if __name__ == \"__main__\":\n",
    "    main()\n",
    "\n"
   ]
  },
  {
   "cell_type": "markdown",
   "metadata": {},
   "source": [
    "5.7 **(Duplicate Elimination)** In organizations, a list of email addresses is often compiled for marketing purposes. However, duplicate email addresses need to be removed\n",
    "from this list. Write a function that receives a list and returns a list containing only unique\n",
    "values. Test your function with a list of email addresses."
   ]
  }
 ],
 "metadata": {
  "kernelspec": {
   "display_name": "Python 3",
   "language": "python",
   "name": "python3"
  },
  "language_info": {
   "codemirror_mode": {
    "name": "ipython",
    "version": 3
   },
   "file_extension": ".py",
   "mimetype": "text/x-python",
   "name": "python",
   "nbconvert_exporter": "python",
   "pygments_lexer": "ipython3",
   "version": "3.11.6"
  }
 },
 "nbformat": 4,
 "nbformat_minor": 2
}
